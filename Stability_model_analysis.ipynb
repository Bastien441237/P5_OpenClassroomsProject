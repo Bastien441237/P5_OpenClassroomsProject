{
 "cells": [
  {
   "cell_type": "markdown",
   "id": "9ffc6162",
   "metadata": {},
   "source": [
    "# Stabilité du modèle sur 12 mois"
   ]
  },
  {
   "cell_type": "markdown",
   "id": "283363ba",
   "metadata": {},
   "source": [
    "## Importation des librairies"
   ]
  },
  {
   "cell_type": "code",
   "execution_count": 1,
   "id": "1552a8e8",
   "metadata": {},
   "outputs": [
    {
     "name": "stdout",
     "output_type": "stream",
     "text": [
      "WARNING:tensorflow:From C:\\Users\\Basti\\anaconda3\\Lib\\site-packages\\keras\\src\\losses.py:2976: The name tf.losses.sparse_softmax_cross_entropy is deprecated. Please use tf.compat.v1.losses.sparse_softmax_cross_entropy instead.\n",
      "\n"
     ]
    }
   ],
   "source": [
    "import pandas as pd\n",
    "import numpy as np\n",
    "from bs4 import BeautifulSoup\n",
    "import re\n",
    "import nltk\n",
    "from nltk.stem import PorterStemmer, WordNetLemmatizer\n",
    "from nltk.tokenize import word_tokenize, RegexpTokenizer\n",
    "from nltk.corpus import stopwords\n",
    "import pickle\n",
    "from sklearn.preprocessing import MultiLabelBinarizer\n",
    "import tensorflow_hub as hub\n",
    "import tensorflow as tf\n",
    "from sklearn.multiclass import OneVsRestClassifier\n",
    "from sklearn.linear_model import LogisticRegression\n",
    "from sklearn.metrics import jaccard_score, f1_score\n",
    "\n",
    "# mlflow\n",
    "import os\n",
    "import mlflow\n",
    "\n",
    "# Plot\n",
    "import matplotlib.pyplot as plt\n",
    "\n",
    "# Pour améliorer les performances (parallélisme)\n",
    "import mapply\n",
    "\n",
    "# Initialisation de mapply\n",
    "mapply.init(\n",
    "    n_workers=-1,\n",
    "    chunk_size=100,\n",
    "    max_chunks_per_worker=8,\n",
    "    progressbar=True\n",
    ")"
   ]
  },
  {
   "cell_type": "markdown",
   "id": "9ad87f50",
   "metadata": {},
   "source": [
    "## Fonctions"
   ]
  },
  {
   "cell_type": "code",
   "execution_count": 2,
   "id": "6df31877",
   "metadata": {},
   "outputs": [],
   "source": [
    "def clean_text(html_text):\n",
    "    \"\"\"Fonction pour supprimer les balises HTML de chaque document\n",
    "    et supprimer le code copié par les utilisateurs\"\"\"\n",
    "\n",
    "    # Supprimer le contenu entre les balises <code>\n",
    "    texte_sans_code = re.sub(r'<code>(.*?)</code>', ' ', html_text, flags=re.DOTALL)\n",
    "\n",
    "    # Supprimer les balises HTML\n",
    "    soup = BeautifulSoup(texte_sans_code, 'html.parser')\n",
    "    texte_sans_balises = soup.get_text(separator=' ', strip=True)\n",
    "\n",
    "    return texte_sans_balises\n",
    "\n",
    "def process_text(doc,\n",
    "                 rejoin = False,\n",
    "                 lemm_or_stemm = 'stem',\n",
    "                 technical_terms = None,\n",
    "                 words_to_remove = None,\n",
    "                 min_len_word = None,\n",
    "                 force_is_alpha = True,\n",
    "                 eng_words = None):\n",
    "    \"\"\"Fonction de text processing\n",
    "    Arguments obligatoires :\n",
    "    ---------------------------\n",
    "    doc : str : le document (un texte au format str)\n",
    "\n",
    "    Arguments optionnels :\n",
    "    ---------------------------\n",
    "    rejoin : bool : si vrai retourne une string sinon retourne un liste de tokens\n",
    "    lemm_or_stemm : str : si lem faire un lemmentize sinon un stemmentize\n",
    "    technical_terms : list : une liste de mots techniques qui ne doivent pas être supprimés\n",
    "    words_to_remove : list : une liste de mots à exclure\n",
    "    min_len_word : int : le minimum d'occurrence des mots à garder dans le corpus\n",
    "    force_is_alpha : int : si 1, tout les tokens avec des caractères numériques sont exclus\n",
    "    eng_words : list : liste de mots anglais à garder\n",
    "\n",
    "    return :\n",
    "    ---------------------------\n",
    "    une string (si rejoin est à True) ou une liste de tokens\"\"\"\n",
    "    \n",
    "    import re\n",
    "    import nltk\n",
    "    from nltk.stem import PorterStemmer, WordNetLemmatizer\n",
    "    from nltk.tokenize import word_tokenize, RegexpTokenizer\n",
    "    from nltk.corpus import stopwords\n",
    "\n",
    "    # Liste des rares words\n",
    "    words_to_remove = words_to_remove or []\n",
    "\n",
    "    # Mettre en minuscule\n",
    "    doc = doc.lower().strip()\n",
    "\n",
    "    # Tokenization personnalisée\n",
    "    if technical_terms is None:\n",
    "        technical_terms = []\n",
    "\n",
    "    # Créer une expression régulière en utilisant les termes techniques\n",
    "    technical_terms_pattern = \"|\".join(re.escape(term) for term in technical_terms)\n",
    "\n",
    "    # Ajouter \\w+ pour capturer les autres mots\n",
    "    regexp = r\"{}|\\w+\".format(technical_terms_pattern)\n",
    "    tokens = re.findall(regexp, doc)\n",
    "\n",
    "    # stop words\n",
    "    stop_words = set(stopwords.words('english'))\n",
    "    cleaned_tokens_list = [w for w in tokens if w not in stop_words]\n",
    "\n",
    "    # words to remove\n",
    "    cleaned_tokens_final = [w for w in cleaned_tokens_list if w not in words_to_remove]\n",
    "\n",
    "    # No more len words\n",
    "    if min_len_word is None:\n",
    "        more_than_N = cleaned_tokens_final\n",
    "    else:\n",
    "        more_than_N = [w for w in cleaned_tokens_final if len(w) >= min_len_word]\n",
    "    \n",
    "    # Exclure les tokens composés uniquement de chiffres si force_is_alpha est True\n",
    "    if force_is_alpha:\n",
    "        alpha_tokens = [w for w in more_than_N if not w.isdigit()]\n",
    "\n",
    "    # Stem ou lem\n",
    "    trans = WordNetLemmatizer() if lemm_or_stemm == 'lem' else PorterStemmer()\n",
    "    trans_text = [trans.lemmatize(i) if lemm_or_stemm == 'lem' else trans.stem(i) for i in alpha_tokens]\n",
    "\n",
    "    # Filtrer les mots anglais si nécessaire\n",
    "    engl_text = [i for i in trans_text if not eng_words or i in eng_words]\n",
    "\n",
    "    if rejoin:\n",
    "        return \" \".join(engl_text)\n",
    "\n",
    "    return engl_text\n",
    "\n",
    "def feature_USE_fct(sentences, b_size) :\n",
    "    batch_size = b_size\n",
    "    features = []\n",
    "\n",
    "    for step in range(0, len(sentences), batch_size):\n",
    "        batch_sentences = sentences[step:step+batch_size]\n",
    "        # Convertir les listes de phrases en une seule chaîne de caractères\n",
    "        sentences_concatenated = [\" \".join(sentence) for sentence in batch_sentences]\n",
    "        # Convertir les chaînes de caractères en tenseurs TensorFlow\n",
    "        tensor_sentences = tf.constant(sentences_concatenated)\n",
    "        # Obtenir les caractéristiques des phrases en utilisant le modèle USE\n",
    "        feat = use_model(tensor_sentences)\n",
    "        features.append(feat)\n",
    "    \n",
    "    # Concaténer les caractéristiques de chaque lot\n",
    "    features = tf.concat(features, axis=0)\n",
    "    \n",
    "    return features\n",
    "\n",
    "def mlflow_run (run_name, model, X, y, model_name):\n",
    "    \"\"\"Fonction qui lance la run MLFlow et qui l'enregistre\"\"\"\n",
    "    with mlflow.start_run(run_name = run_name) as run:\n",
    "        \n",
    "        # Prédictions\n",
    "        pred = model.predict(X)\n",
    "        \n",
    "        # Calculer les scores du modèle sur le test set\n",
    "        jaccard_index = jaccard_score(y, pred, average='micro')\n",
    "        f1 = f1_score(y, pred, average='micro')\n",
    "        \n",
    "        # Enregistrer les résultats dans MLFlow\n",
    "        mlflow.log_metric(\"jaccard_score\", jaccard_index)\n",
    "        mlflow.log_metric(\"f1_score\", f1)\n",
    "        mlflow.sklearn.log_model(model, model_name)\n",
    "    \n",
    "    return { \n",
    "        'jaccard_index': jaccard_index,\n",
    "        'f1': f1,\n",
    "        'pred': pred\n",
    "    }\n",
    "        \n",
    "# Créer un DataFrame vide pour stocker les résultats des modèles\n",
    "df_results = pd.DataFrame(columns=['Mois', 'F1_score', 'Jaccard_score', 'Taux de prédiction'])\n",
    "\n",
    "def score(df_results, mois, jaccard_index, f1, pred):\n",
    "    \"\"\"Fonction pour calculer le taux de prédiction du modèle et ajouter les scores dans un DataFrame\"\"\"\n",
    "    # Création de predicted_tags pour stocker les prédiction du modèle\n",
    "    predicted_tags = multilabel_binarizer.inverse_transform(pred)\n",
    "    \n",
    "    # Calcul du nombre de questions avec prédiction vide\n",
    "    nb_sans_prediction = sum(all(tag == '()' for tag in tags) for tags in predicted_tags)\n",
    "\n",
    "    # Affichage du taux de prédiction (Nombre de questions avec prédiction)\n",
    "    taux = ((len(predicted_tags) - nb_sans_prediction) / len(predicted_tags)) * 100\n",
    "    \n",
    "    # Ajouter les résultats du modèle au DataFrame global\n",
    "    df_results.loc[df_results.shape[0]] = [mois, f1, jaccard_index, taux]\n",
    "\n",
    "    return df_results"
   ]
  },
  {
   "cell_type": "markdown",
   "id": "7203f707",
   "metadata": {},
   "source": [
    "## Affichage des données"
   ]
  },
  {
   "cell_type": "markdown",
   "id": "4d6d376c",
   "metadata": {},
   "source": [
    "On récupère les données sur la dernière année écoulée afin de pouvoir vérifier la stabilité de notre modèle.\n",
    "\n",
    "Pour cela, nous avons utilisé StackExchange Data Explorer et avons extrait un fichier CSV grâce à la requête SQL suivante :"
   ]
  },
  {
   "attachments": {
    "image.png": {
     "image/png": "[encoded data removed]"
    }
   },
   "cell_type": "markdown",
   "id": "85146b1e",
   "metadata": {},
   "source": [
    "![image.png](attachment:image.png)"
   ]
  },
  {
   "cell_type": "code",
   "execution_count": 3,
   "id": "4dad12a3",
   "metadata": {},
   "outputs": [
    {
     "data": {
      "text/html": [
       "<div>\n",
       "<style scoped>\n",
       "    .dataframe tbody tr th:only-of-type {\n",
       "        vertical-align: middle;\n",
       "    }\n",
       "\n",
       "    .dataframe tbody tr th {\n",
       "        vertical-align: top;\n",
       "    }\n",
       "\n",
       "    .dataframe thead th {\n",
       "        text-align: right;\n",
       "    }\n",
       "</style>\n",
       "<table border=\"1\" class=\"dataframe\">\n",
       "  <thead>\n",
       "    <tr style=\"text-align: right;\">\n",
       "      <th></th>\n",
       "      <th>Title</th>\n",
       "      <th>Body</th>\n",
       "      <th>Tags</th>\n",
       "      <th>Id</th>\n",
       "      <th>CreationDate</th>\n",
       "      <th>Score</th>\n",
       "      <th>ViewCount</th>\n",
       "      <th>AnswerCount</th>\n",
       "    </tr>\n",
       "  </thead>\n",
       "  <tbody>\n",
       "    <tr>\n",
       "      <th>0</th>\n",
       "      <td>Combined with C++23 Deducing this and conversi...</td>\n",
       "      <td>&lt;p&gt;I recently noticed a strange issue regardin...</td>\n",
       "      <td>&lt;c++&gt;&lt;language-lawyer&gt;&lt;type-deduction&gt;&lt;c++23&gt;&lt;...</td>\n",
       "      <td>77894686</td>\n",
       "      <td>2024-01-28 11:55:59</td>\n",
       "      <td>14</td>\n",
       "      <td>853</td>\n",
       "      <td>1</td>\n",
       "    </tr>\n",
       "    <tr>\n",
       "      <th>1</th>\n",
       "      <td>Overload resolution and template argument dedu...</td>\n",
       "      <td>&lt;p&gt;In the following example, &lt;code&gt;0&lt;/code&gt; be...</td>\n",
       "      <td>&lt;c++&gt;&lt;templates&gt;&lt;overload-resolution&gt;&lt;template...</td>\n",
       "      <td>77879331</td>\n",
       "      <td>2024-01-25 10:48:55</td>\n",
       "      <td>26</td>\n",
       "      <td>1375</td>\n",
       "      <td>1</td>\n",
       "    </tr>\n",
       "    <tr>\n",
       "      <th>2</th>\n",
       "      <td>Godot java.lang.IllegalStateException: Service...</td>\n",
       "      <td>&lt;p&gt;I'm published a game made with Godot 3.5.2&lt;...</td>\n",
       "      <td>&lt;java&gt;&lt;android&gt;&lt;mobile&gt;&lt;game-engine&gt;&lt;godot&gt;</td>\n",
       "      <td>77871397</td>\n",
       "      <td>2024-01-24 08:08:18</td>\n",
       "      <td>8</td>\n",
       "      <td>1097</td>\n",
       "      <td>1</td>\n",
       "    </tr>\n",
       "    <tr>\n",
       "      <th>3</th>\n",
       "      <td>I am using react-fast-marquee for a horizontal...</td>\n",
       "      <td>&lt;p&gt;I have the following code, and it is workin...</td>\n",
       "      <td>&lt;javascript&gt;&lt;css&gt;&lt;reactjs&gt;&lt;animation&gt;&lt;scroll&gt;</td>\n",
       "      <td>77856229</td>\n",
       "      <td>2024-01-21 18:57:24</td>\n",
       "      <td>6</td>\n",
       "      <td>139</td>\n",
       "      <td>2</td>\n",
       "    </tr>\n",
       "    <tr>\n",
       "      <th>4</th>\n",
       "      <td>std::type_identity to support several variadic...</td>\n",
       "      <td>&lt;p&gt;&lt;code&gt;std::type_identity&lt;/code&gt; can be used...</td>\n",
       "      <td>&lt;c++&gt;&lt;templates&gt;&lt;language-lawyer&gt;&lt;c++20&gt;&lt;param...</td>\n",
       "      <td>77832658</td>\n",
       "      <td>2024-01-17 13:05:04</td>\n",
       "      <td>6</td>\n",
       "      <td>249</td>\n",
       "      <td>1</td>\n",
       "    </tr>\n",
       "  </tbody>\n",
       "</table>\n",
       "</div>"
      ],
      "text/plain": [
       "                                               Title  \\\n",
       "0  Combined with C++23 Deducing this and conversi...   \n",
       "1  Overload resolution and template argument dedu...   \n",
       "2  Godot java.lang.IllegalStateException: Service...   \n",
       "3  I am using react-fast-marquee for a horizontal...   \n",
       "4  std::type_identity to support several variadic...   \n",
       "\n",
       "                                                Body  \\\n",
       "0  <p>I recently noticed a strange issue regardin...   \n",
       "1  <p>In the following example, <code>0</code> be...   \n",
       "2  <p>I'm published a game made with Godot 3.5.2<...   \n",
       "3  <p>I have the following code, and it is workin...   \n",
       "4  <p><code>std::type_identity</code> can be used...   \n",
       "\n",
       "                                                Tags        Id  \\\n",
       "0  <c++><language-lawyer><type-deduction><c++23><...  77894686   \n",
       "1  <c++><templates><overload-resolution><template...  77879331   \n",
       "2        <java><android><mobile><game-engine><godot>  77871397   \n",
       "3      <javascript><css><reactjs><animation><scroll>  77856229   \n",
       "4  <c++><templates><language-lawyer><c++20><param...  77832658   \n",
       "\n",
       "          CreationDate  Score  ViewCount  AnswerCount  \n",
       "0  2024-01-28 11:55:59     14        853            1  \n",
       "1  2024-01-25 10:48:55     26       1375            1  \n",
       "2  2024-01-24 08:08:18      8       1097            1  \n",
       "3  2024-01-21 18:57:24      6        139            2  \n",
       "4  2024-01-17 13:05:04      6        249            1  "
      ]
     },
     "execution_count": 3,
     "metadata": {},
     "output_type": "execute_result"
    }
   ],
   "source": [
    "df_questions = pd.read_csv(\"QueryResults-1an.csv\")\n",
    "df_questions.head(5)"
   ]
  },
  {
   "cell_type": "code",
   "execution_count": 4,
   "id": "4bc7f1ce",
   "metadata": {},
   "outputs": [
    {
     "name": "stdout",
     "output_type": "stream",
     "text": [
      "<class 'pandas.core.frame.DataFrame'>\n",
      "RangeIndex: 640 entries, 0 to 639\n",
      "Data columns (total 8 columns):\n",
      " #   Column        Non-Null Count  Dtype \n",
      "---  ------        --------------  ----- \n",
      " 0   Title         640 non-null    object\n",
      " 1   Body          640 non-null    object\n",
      " 2   Tags          640 non-null    object\n",
      " 3   Id            640 non-null    int64 \n",
      " 4   CreationDate  640 non-null    object\n",
      " 5   Score         640 non-null    int64 \n",
      " 6   ViewCount     640 non-null    int64 \n",
      " 7   AnswerCount   640 non-null    int64 \n",
      "dtypes: int64(4), object(4)\n",
      "memory usage: 40.1+ KB\n"
     ]
    }
   ],
   "source": [
    "df_questions.info()"
   ]
  },
  {
   "cell_type": "code",
   "execution_count": 5,
   "id": "4b063b6b",
   "metadata": {},
   "outputs": [
    {
     "data": {
      "text/html": [
       "<div>\n",
       "<style scoped>\n",
       "    .dataframe tbody tr th:only-of-type {\n",
       "        vertical-align: middle;\n",
       "    }\n",
       "\n",
       "    .dataframe tbody tr th {\n",
       "        vertical-align: top;\n",
       "    }\n",
       "\n",
       "    .dataframe thead th {\n",
       "        text-align: right;\n",
       "    }\n",
       "</style>\n",
       "<table border=\"1\" class=\"dataframe\">\n",
       "  <thead>\n",
       "    <tr style=\"text-align: right;\">\n",
       "      <th></th>\n",
       "      <th>Title</th>\n",
       "      <th>Body</th>\n",
       "      <th>Tags</th>\n",
       "      <th>Id</th>\n",
       "      <th>CreationDate</th>\n",
       "      <th>Score</th>\n",
       "      <th>ViewCount</th>\n",
       "      <th>AnswerCount</th>\n",
       "    </tr>\n",
       "  </thead>\n",
       "  <tbody>\n",
       "    <tr>\n",
       "      <th>0</th>\n",
       "      <td>Combined with C++23 Deducing this and conversi...</td>\n",
       "      <td>&lt;p&gt;I recently noticed a strange issue regardin...</td>\n",
       "      <td>&lt;c++&gt;&lt;language-lawyer&gt;&lt;type-deduction&gt;&lt;c++23&gt;&lt;...</td>\n",
       "      <td>77894686</td>\n",
       "      <td>2024-01-28 11:55:59</td>\n",
       "      <td>14</td>\n",
       "      <td>853</td>\n",
       "      <td>1</td>\n",
       "    </tr>\n",
       "    <tr>\n",
       "      <th>1</th>\n",
       "      <td>Overload resolution and template argument dedu...</td>\n",
       "      <td>&lt;p&gt;In the following example, &lt;code&gt;0&lt;/code&gt; be...</td>\n",
       "      <td>&lt;c++&gt;&lt;templates&gt;&lt;overload-resolution&gt;&lt;template...</td>\n",
       "      <td>77879331</td>\n",
       "      <td>2024-01-25 10:48:55</td>\n",
       "      <td>26</td>\n",
       "      <td>1375</td>\n",
       "      <td>1</td>\n",
       "    </tr>\n",
       "    <tr>\n",
       "      <th>2</th>\n",
       "      <td>Godot java.lang.IllegalStateException: Service...</td>\n",
       "      <td>&lt;p&gt;I'm published a game made with Godot 3.5.2&lt;...</td>\n",
       "      <td>&lt;java&gt;&lt;android&gt;&lt;mobile&gt;&lt;game-engine&gt;&lt;godot&gt;</td>\n",
       "      <td>77871397</td>\n",
       "      <td>2024-01-24 08:08:18</td>\n",
       "      <td>8</td>\n",
       "      <td>1097</td>\n",
       "      <td>1</td>\n",
       "    </tr>\n",
       "    <tr>\n",
       "      <th>3</th>\n",
       "      <td>I am using react-fast-marquee for a horizontal...</td>\n",
       "      <td>&lt;p&gt;I have the following code, and it is workin...</td>\n",
       "      <td>&lt;javascript&gt;&lt;css&gt;&lt;reactjs&gt;&lt;animation&gt;&lt;scroll&gt;</td>\n",
       "      <td>77856229</td>\n",
       "      <td>2024-01-21 18:57:24</td>\n",
       "      <td>6</td>\n",
       "      <td>139</td>\n",
       "      <td>2</td>\n",
       "    </tr>\n",
       "    <tr>\n",
       "      <th>4</th>\n",
       "      <td>std::type_identity to support several variadic...</td>\n",
       "      <td>&lt;p&gt;&lt;code&gt;std::type_identity&lt;/code&gt; can be used...</td>\n",
       "      <td>&lt;c++&gt;&lt;templates&gt;&lt;language-lawyer&gt;&lt;c++20&gt;&lt;param...</td>\n",
       "      <td>77832658</td>\n",
       "      <td>2024-01-17 13:05:04</td>\n",
       "      <td>6</td>\n",
       "      <td>249</td>\n",
       "      <td>1</td>\n",
       "    </tr>\n",
       "  </tbody>\n",
       "</table>\n",
       "</div>"
      ],
      "text/plain": [
       "                                               Title  \\\n",
       "0  Combined with C++23 Deducing this and conversi...   \n",
       "1  Overload resolution and template argument dedu...   \n",
       "2  Godot java.lang.IllegalStateException: Service...   \n",
       "3  I am using react-fast-marquee for a horizontal...   \n",
       "4  std::type_identity to support several variadic...   \n",
       "\n",
       "                                                Body  \\\n",
       "0  <p>I recently noticed a strange issue regardin...   \n",
       "1  <p>In the following example, <code>0</code> be...   \n",
       "2  <p>I'm published a game made with Godot 3.5.2<...   \n",
       "3  <p>I have the following code, and it is workin...   \n",
       "4  <p><code>std::type_identity</code> can be used...   \n",
       "\n",
       "                                                Tags        Id  \\\n",
       "0  <c++><language-lawyer><type-deduction><c++23><...  77894686   \n",
       "1  <c++><templates><overload-resolution><template...  77879331   \n",
       "2        <java><android><mobile><game-engine><godot>  77871397   \n",
       "3      <javascript><css><reactjs><animation><scroll>  77856229   \n",
       "4  <c++><templates><language-lawyer><c++20><param...  77832658   \n",
       "\n",
       "         CreationDate  Score  ViewCount  AnswerCount  \n",
       "0 2024-01-28 11:55:59     14        853            1  \n",
       "1 2024-01-25 10:48:55     26       1375            1  \n",
       "2 2024-01-24 08:08:18      8       1097            1  \n",
       "3 2024-01-21 18:57:24      6        139            2  \n",
       "4 2024-01-17 13:05:04      6        249            1  "
      ]
     },
     "execution_count": 5,
     "metadata": {},
     "output_type": "execute_result"
    }
   ],
   "source": [
    "df_maintenance = df_questions.copy()\n",
    "df_maintenance['CreationDate'] = pd.to_datetime(df_maintenance['CreationDate'])\n",
    "df_maintenance = df_maintenance.loc[df_maintenance['CreationDate'] >= '2023-02-01']\n",
    "df_maintenance.head()"
   ]
  },
  {
   "cell_type": "code",
   "execution_count": 6,
   "id": "37dca7fa",
   "metadata": {},
   "outputs": [
    {
     "name": "stdout",
     "output_type": "stream",
     "text": [
      "<class 'pandas.core.frame.DataFrame'>\n",
      "Index: 640 entries, 0 to 639\n",
      "Data columns (total 8 columns):\n",
      " #   Column        Non-Null Count  Dtype         \n",
      "---  ------        --------------  -----         \n",
      " 0   Title         640 non-null    object        \n",
      " 1   Body          640 non-null    object        \n",
      " 2   Tags          640 non-null    object        \n",
      " 3   Id            640 non-null    int64         \n",
      " 4   CreationDate  640 non-null    datetime64[ns]\n",
      " 5   Score         640 non-null    int64         \n",
      " 6   ViewCount     640 non-null    int64         \n",
      " 7   AnswerCount   640 non-null    int64         \n",
      "dtypes: datetime64[ns](1), int64(4), object(3)\n",
      "memory usage: 45.0+ KB\n"
     ]
    }
   ],
   "source": [
    "df_maintenance.info()"
   ]
  },
  {
   "cell_type": "markdown",
   "id": "29e56f78",
   "metadata": {},
   "source": [
    "## Chargement des fichiers pickle"
   ]
  },
  {
   "cell_type": "code",
   "execution_count": 7,
   "id": "a5d87243",
   "metadata": {},
   "outputs": [],
   "source": [
    "# Chargement du modèle\n",
    "with open('final_model.pkl', 'rb') as file:\n",
    "    loaded_model = pickle.load(file)\n",
    "\n",
    "# Chargement des listes pour la fonction process_text\n",
    "with open('lists_data.pkl', 'rb') as fichier:\n",
    "    lists_data_loaded = pickle.load(fichier)\n",
    "\n",
    "technical_terms = lists_data_loaded['technical_terms']\n",
    "words_to_remove = lists_data_loaded['words_to_remove']\n",
    "eng_words = lists_data_loaded['eng_words']\n",
    "list_top_tags = lists_data_loaded['list_top_tags']\n",
    "\n",
    "# Chargement du multilabel binarizer\n",
    "with open('multilabel_binarizer.pkl', 'rb') as fichier:\n",
    "    multilabel_binarizer = pickle.load(fichier)"
   ]
  },
  {
   "cell_type": "code",
   "execution_count": 8,
   "id": "8816eb23",
   "metadata": {
    "scrolled": true
   },
   "outputs": [
    {
     "name": "stdout",
     "output_type": "stream",
     "text": [
      "WARNING:tensorflow:From C:\\Users\\Basti\\anaconda3\\Lib\\site-packages\\tensorflow_hub\\resolver.py:120: The name tf.gfile.MakeDirs is deprecated. Please use tf.io.gfile.makedirs instead.\n",
      "\n"
     ]
    },
    {
     "name": "stderr",
     "output_type": "stream",
     "text": [
      "WARNING:tensorflow:From C:\\Users\\Basti\\anaconda3\\Lib\\site-packages\\tensorflow_hub\\resolver.py:120: The name tf.gfile.MakeDirs is deprecated. Please use tf.io.gfile.makedirs instead.\n",
      "\n"
     ]
    },
    {
     "name": "stdout",
     "output_type": "stream",
     "text": [
      "WARNING:tensorflow:From C:\\Users\\Basti\\anaconda3\\Lib\\site-packages\\tensorflow_hub\\module_v2.py:126: The name tf.saved_model.load_v2 is deprecated. Please use tf.compat.v2.saved_model.load instead.\n",
      "\n"
     ]
    },
    {
     "name": "stderr",
     "output_type": "stream",
     "text": [
      "WARNING:tensorflow:From C:\\Users\\Basti\\anaconda3\\Lib\\site-packages\\tensorflow_hub\\module_v2.py:126: The name tf.saved_model.load_v2 is deprecated. Please use tf.compat.v2.saved_model.load instead.\n",
      "\n"
     ]
    }
   ],
   "source": [
    "# Chargement du modèle USE\n",
    "use_model = hub.load(\"https://tfhub.dev/google/universal-sentence-encoder/4\")"
   ]
  },
  {
   "cell_type": "markdown",
   "id": "fabf00b0",
   "metadata": {},
   "source": [
    "## Nettoyage des données"
   ]
  },
  {
   "cell_type": "code",
   "execution_count": 9,
   "id": "58b229b2",
   "metadata": {},
   "outputs": [],
   "source": [
    "# Concatener les titres et les questions\n",
    "df_maintenance['Title_Body'] = df_maintenance['Title'].astype(str) + ' ' + df_maintenance['Body'].astype(str)\n",
    "\n",
    "# Enlever les balises HTML et supprimer les morceaux de codes des questions\n",
    "for idx, ser in df_maintenance.iterrows():\n",
    "    corpus_clean = clean_text(ser['Title_Body'])\n",
    "    df_maintenance.at[idx, 'Title_Body'] = corpus_clean"
   ]
  },
  {
   "cell_type": "code",
   "execution_count": 10,
   "id": "039d5c31",
   "metadata": {},
   "outputs": [
    {
     "name": "stderr",
     "output_type": "stream",
     "text": [
      "C:\\Users\\Basti\\anaconda3\\Lib\\site-packages\\numpy\\core\\fromnumeric.py:57: FutureWarning: 'Series.swapaxes' is deprecated and will be removed in a future version. Please use 'Series.transpose' instead.\n",
      "  return bound(*args, **kwds)\n"
     ]
    },
    {
     "data": {
      "application/vnd.jupyter.widget-view+json": {
       "model_id": "311e54d794984e0c84fc28d890800c92",
       "version_major": 2,
       "version_minor": 0
      },
      "text/plain": [
       "  0%|          | 0/6 [00:00<?, ?it/s]"
      ]
     },
     "metadata": {},
     "output_type": "display_data"
    }
   ],
   "source": [
    "# Pour les questions\n",
    "df_maintenance['clean_title_body'] = df_maintenance['Title_Body'].mapply(process_text, \n",
    "                                                                     rejoin = False, \n",
    "                                                                     lemm_or_stemm ='lem', \n",
    "                                                                     words_to_remove = words_to_remove, \n",
    "                                                                     technical_terms = technical_terms, \n",
    "                                                                     min_len_word = 2, \n",
    "                                                                     force_is_alpha = True, \n",
    "                                                                     eng_words = eng_words)"
   ]
  },
  {
   "cell_type": "code",
   "execution_count": 11,
   "id": "65bc08c4",
   "metadata": {},
   "outputs": [
    {
     "name": "stderr",
     "output_type": "stream",
     "text": [
      "C:\\Users\\Basti\\anaconda3\\Lib\\site-packages\\numpy\\core\\fromnumeric.py:57: FutureWarning: 'Series.swapaxes' is deprecated and will be removed in a future version. Please use 'Series.transpose' instead.\n",
      "  return bound(*args, **kwds)\n"
     ]
    },
    {
     "data": {
      "application/vnd.jupyter.widget-view+json": {
       "model_id": "70e883a62eda4b51a798de53e945dfca",
       "version_major": 2,
       "version_minor": 0
      },
      "text/plain": [
       "  0%|          | 0/6 [00:00<?, ?it/s]"
      ]
     },
     "metadata": {},
     "output_type": "display_data"
    }
   ],
   "source": [
    "# Pour les tags\n",
    "df_maintenance['clean_tags'] = df_maintenance['Tags'].mapply(process_text, \n",
    "                                                         rejoin = False, \n",
    "                                                         lemm_or_stemm ='lem', \n",
    "                                                         words_to_remove = None, \n",
    "                                                         technical_terms = technical_terms, \n",
    "                                                         min_len_word = 2, \n",
    "                                                         force_is_alpha = True, \n",
    "                                                         eng_words = list_top_tags)"
   ]
  },
  {
   "cell_type": "code",
   "execution_count": 12,
   "id": "e1a703b1",
   "metadata": {},
   "outputs": [],
   "source": [
    "# Supprimer les doublons de la colonne 'clean_tags'\n",
    "df_maintenance['clean_tags'] = df_maintenance['clean_tags'].apply(lambda x: list(set(x)))\n",
    "\n",
    "# Appliquer une fonction lambda pour ne conserver que les deux premiers tags\n",
    "df_maintenance['clean_tags'] = df_maintenance['clean_tags'].apply(lambda x: x[:2] if isinstance(x, list) else x)"
   ]
  },
  {
   "cell_type": "markdown",
   "id": "d207262a",
   "metadata": {},
   "source": [
    "## Analyse de la stabilité du modèle dans le temps (simulation 1 an)"
   ]
  },
  {
   "cell_type": "markdown",
   "id": "159dae38",
   "metadata": {},
   "source": [
    "Chargement de USE (Universal Sentence Encoding) :"
   ]
  },
  {
   "cell_type": "code",
   "execution_count": 13,
   "id": "a0c49dfa",
   "metadata": {},
   "outputs": [],
   "source": [
    "embed = hub.load(\"https://tfhub.dev/google/universal-sentence-encoder/4\")"
   ]
  },
  {
   "cell_type": "markdown",
   "id": "f17f2a63",
   "metadata": {},
   "source": [
    "Mise en place d'une expérience MLFlow :"
   ]
  },
  {
   "cell_type": "code",
   "execution_count": 14,
   "id": "1c849625",
   "metadata": {},
   "outputs": [
    {
     "data": {
      "text/plain": [
       "<Experiment: artifact_location='file:///C:\\\\Users\\\\Basti/mlruns/528030015125519018', creation_time=1708531303078, experiment_id='528030015125519018', last_update_time=1708531303078, lifecycle_stage='active', name='Model_stability', tags={}>"
      ]
     },
     "execution_count": 14,
     "metadata": {},
     "output_type": "execute_result"
    }
   ],
   "source": [
    "# Définir le chemin du répertoire de suivi\n",
    "mlflow.set_tracking_uri(\"file:///\" + os.path.expanduser('~/mlruns'))\n",
    "\n",
    "# Identification du nom du projet MLflow\n",
    "mlflow.set_experiment(\"Model_stability\")"
   ]
  },
  {
   "cell_type": "code",
   "execution_count": 15,
   "id": "3941eb7b",
   "metadata": {},
   "outputs": [
    {
     "name": "stdout",
     "output_type": "stream",
     "text": [
      "MLflow Tracking UI: https://37ec-2a01-e0a-b69-82d0-2491-24f4-c69b-2f6f.ngrok-free.app\n"
     ]
    }
   ],
   "source": [
    "from pyngrok import ngrok\n",
    "# Terminate open tunels if exist\n",
    "ngrok.kill()\n",
    "\n",
    "# Setting the authtoken\n",
    "# Get your authtoken from https://dashboard.ngrok.com/auth\n",
    "NGROK_AUTH_TOKEN = '2b23hnwzT4i2IwyrnERQYBHW6oM_5KfLu5ne9aeQKmtUtyZLK'\n",
    "ngrok.set_auth_token(NGROK_AUTH_TOKEN)\n",
    "\n",
    "# Open an HTTPs tunnel on port 5000 for http://localhost:5000\n",
    "# Utiliser la commande shell mlflow ui pour l'activer\n",
    "ngrok_tunel = ngrok.connect(addr='5000', proto='http', bind_tls=True)\n",
    "print('MLflow Tracking UI:', ngrok_tunel.public_url)"
   ]
  },
  {
   "cell_type": "markdown",
   "id": "033f4805",
   "metadata": {},
   "source": [
    "Exécuter 'mlflow ui' dans un terminal et cliquer ensuite sur le lien ci-dessus."
   ]
  },
  {
   "cell_type": "markdown",
   "id": "4bf2f53e",
   "metadata": {},
   "source": [
    "Enregistrement des résultats mensuels :"
   ]
  },
  {
   "cell_type": "code",
   "execution_count": 16,
   "id": "3c578353",
   "metadata": {},
   "outputs": [
    {
     "name": "stderr",
     "output_type": "stream",
     "text": [
      "C:\\Users\\Basti\\anaconda3\\Lib\\site-packages\\_distutils_hack\\__init__.py:33: UserWarning: Setuptools is replacing distutils.\n",
      "  warnings.warn(\"Setuptools is replacing distutils.\")\n"
     ]
    },
    {
     "data": {
      "text/html": [
       "<div>\n",
       "<style scoped>\n",
       "    .dataframe tbody tr th:only-of-type {\n",
       "        vertical-align: middle;\n",
       "    }\n",
       "\n",
       "    .dataframe tbody tr th {\n",
       "        vertical-align: top;\n",
       "    }\n",
       "\n",
       "    .dataframe thead th {\n",
       "        text-align: right;\n",
       "    }\n",
       "</style>\n",
       "<table border=\"1\" class=\"dataframe\">\n",
       "  <thead>\n",
       "    <tr style=\"text-align: right;\">\n",
       "      <th></th>\n",
       "      <th>Mois</th>\n",
       "      <th>F1_score</th>\n",
       "      <th>Jaccard_score</th>\n",
       "      <th>Taux de prédiction</th>\n",
       "    </tr>\n",
       "  </thead>\n",
       "  <tbody>\n",
       "    <tr>\n",
       "      <th>0</th>\n",
       "      <td>Mois_1</td>\n",
       "      <td>0.698925</td>\n",
       "      <td>0.537190</td>\n",
       "      <td>79.761905</td>\n",
       "    </tr>\n",
       "    <tr>\n",
       "      <th>1</th>\n",
       "      <td>Mois_2</td>\n",
       "      <td>0.559585</td>\n",
       "      <td>0.388489</td>\n",
       "      <td>65.591398</td>\n",
       "    </tr>\n",
       "    <tr>\n",
       "      <th>2</th>\n",
       "      <td>Mois_3</td>\n",
       "      <td>0.606061</td>\n",
       "      <td>0.434783</td>\n",
       "      <td>78.205128</td>\n",
       "    </tr>\n",
       "    <tr>\n",
       "      <th>3</th>\n",
       "      <td>Mois_4</td>\n",
       "      <td>0.565517</td>\n",
       "      <td>0.394231</td>\n",
       "      <td>73.239437</td>\n",
       "    </tr>\n",
       "    <tr>\n",
       "      <th>4</th>\n",
       "      <td>Mois_5</td>\n",
       "      <td>0.652482</td>\n",
       "      <td>0.484211</td>\n",
       "      <td>79.687500</td>\n",
       "    </tr>\n",
       "    <tr>\n",
       "      <th>5</th>\n",
       "      <td>Mois_6</td>\n",
       "      <td>0.614173</td>\n",
       "      <td>0.443182</td>\n",
       "      <td>74.603175</td>\n",
       "    </tr>\n",
       "    <tr>\n",
       "      <th>6</th>\n",
       "      <td>Mois_7</td>\n",
       "      <td>0.642857</td>\n",
       "      <td>0.473684</td>\n",
       "      <td>83.333333</td>\n",
       "    </tr>\n",
       "    <tr>\n",
       "      <th>7</th>\n",
       "      <td>Mois_8</td>\n",
       "      <td>0.552632</td>\n",
       "      <td>0.381818</td>\n",
       "      <td>82.926829</td>\n",
       "    </tr>\n",
       "    <tr>\n",
       "      <th>8</th>\n",
       "      <td>Mois_9</td>\n",
       "      <td>0.515152</td>\n",
       "      <td>0.346939</td>\n",
       "      <td>74.285714</td>\n",
       "    </tr>\n",
       "    <tr>\n",
       "      <th>9</th>\n",
       "      <td>Mois_10</td>\n",
       "      <td>0.631579</td>\n",
       "      <td>0.461538</td>\n",
       "      <td>80.000000</td>\n",
       "    </tr>\n",
       "    <tr>\n",
       "      <th>10</th>\n",
       "      <td>Mois_11</td>\n",
       "      <td>0.580645</td>\n",
       "      <td>0.409091</td>\n",
       "      <td>93.333333</td>\n",
       "    </tr>\n",
       "    <tr>\n",
       "      <th>11</th>\n",
       "      <td>Mois_12</td>\n",
       "      <td>0.692308</td>\n",
       "      <td>0.529412</td>\n",
       "      <td>92.307692</td>\n",
       "    </tr>\n",
       "  </tbody>\n",
       "</table>\n",
       "</div>"
      ],
      "text/plain": [
       "       Mois  F1_score  Jaccard_score  Taux de prédiction\n",
       "0    Mois_1  0.698925       0.537190           79.761905\n",
       "1    Mois_2  0.559585       0.388489           65.591398\n",
       "2    Mois_3  0.606061       0.434783           78.205128\n",
       "3    Mois_4  0.565517       0.394231           73.239437\n",
       "4    Mois_5  0.652482       0.484211           79.687500\n",
       "5    Mois_6  0.614173       0.443182           74.603175\n",
       "6    Mois_7  0.642857       0.473684           83.333333\n",
       "7    Mois_8  0.552632       0.381818           82.926829\n",
       "8    Mois_9  0.515152       0.346939           74.285714\n",
       "9   Mois_10  0.631579       0.461538           80.000000\n",
       "10  Mois_11  0.580645       0.409091           93.333333\n",
       "11  Mois_12  0.692308       0.529412           92.307692"
      ]
     },
     "execution_count": 16,
     "metadata": {},
     "output_type": "execute_result"
    }
   ],
   "source": [
    "# Définition des dates de début et de fin\n",
    "start_date = df_maintenance['CreationDate'].min()\n",
    "end_date = df_maintenance['CreationDate'].max()\n",
    "\n",
    "# Générer les dates mensuelles\n",
    "D = pd.date_range(start=start_date, end=end_date, freq='MS')\n",
    "\n",
    "# Boucle sur les dates mensuelles\n",
    "for i, date in enumerate(D, start=1):\n",
    "    # Sélectionner le mois correspondant\n",
    "    df_month = df_maintenance[(df_maintenance['CreationDate'] >= date)\\\n",
    "                              & (df_maintenance['CreationDate'] < date + pd.DateOffset(months=1))]\n",
    "    \n",
    "    # Création de la matrice d'embedding pour réentrainer le modèle\n",
    "    sentences = df_month['clean_title_body']\n",
    "    batch_size = 1\n",
    "    X = feature_USE_fct(sentences, batch_size)\n",
    "\n",
    "    # Ecodage des labels\n",
    "    y = df_month['clean_tags']\n",
    "    y = multilabel_binarizer.transform(y)\n",
    "    \n",
    "    # Enregistrement de la run du modèle dans MLFlow\n",
    "    run_name = f'Mois_{i}'\n",
    "    name = f'Mois_{i}'\n",
    "    name = mlflow_run(run_name, loaded_model, X, y, 'log_reg')\n",
    "    mlflow.end_run()\n",
    "    \n",
    "    # Affichage des scores et du pourcentage de prédiction du modèle\n",
    "    score(df_results, run_name, name['jaccard_index'], name['f1'], name['pred'])\n",
    "    \n",
    "# Affichage des scores\n",
    "df_results"
   ]
  },
  {
   "cell_type": "code",
   "execution_count": 17,
   "id": "3e1eb501",
   "metadata": {},
   "outputs": [
    {
     "data": {
      "image/png": "[encoded data removed]",
      "text/plain": [
       "<Figure size 1200x600 with 1 Axes>"
      ]
     },
     "metadata": {},
     "output_type": "display_data"
    }
   ],
   "source": [
    "# Créer une liste d'indices pour chaque modèle\n",
    "model_indices = np.arange(len(df_results['Mois']))\n",
    "\n",
    "# Créer une figure et un axe pour les graphiques\n",
    "fig, ax = plt.subplots(figsize=(12, 6))\n",
    "\n",
    "# Tracer les lignes\n",
    "ax.plot(model_indices, df_results['F1_score'], marker='o', linestyle='-', color='blue', label='Score F1')\n",
    "ax.plot(model_indices, df_results['Jaccard_score'], marker='s', linestyle='--', color='orange', label='Jaccard Score')\n",
    "\n",
    "# Ajouter des étiquettes et une légende\n",
    "ax.set_xlabel('Mois')\n",
    "ax.set_ylabel('Score')\n",
    "ax.set_title('Comparaison des scores par mois')\n",
    "ax.set_xticks(model_indices)\n",
    "ax.set_xticklabels(df_results['Mois'])\n",
    "ax.legend()\n",
    "\n",
    "plt.show()"
   ]
  },
  {
   "cell_type": "code",
   "execution_count": 18,
   "id": "d9983fe2",
   "metadata": {},
   "outputs": [
    {
     "data": {
      "image/png": "[encoded data removed]",
      "text/plain": [
       "<Figure size 1000x600 with 1 Axes>"
      ]
     },
     "metadata": {},
     "output_type": "display_data"
    }
   ],
   "source": [
    "# Créer une figure et un axe pour les graphiques\n",
    "fig, ax = plt.subplots(figsize=(10, 6))\n",
    "\n",
    "# Tracer le temps d'exécution pour chaque modèle\n",
    "ax.bar(df_results['Mois'], df_results[\"Taux de prédiction\"], label='Pourcentage de prédictions', alpha=0.6)\n",
    "\n",
    "# Tracer la moyenne du taux de prédiction du modèle sur 12 mois\n",
    "mean_prediction_rate = df_results[\"Taux de prédiction\"].mean()\n",
    "ax.axhline(mean_prediction_rate, color='red', linestyle='--', label='Moyenne des taux de prédiction')\n",
    "\n",
    "# Ajouter des étiquettes et une légende\n",
    "ax.set_xlabel('Mois')\n",
    "ax.set_ylabel(\"Pourcentage de prédictions\")\n",
    "ax.set_title(\"Comparaison des pourcentage de prédiction réalisés par le modèle au fil des mois\")\n",
    "ax.legend()\n",
    "plt.show()"
   ]
  }
 ],
 "metadata": {
  "kernelspec": {
   "display_name": "Python 3 (ipykernel)",
   "language": "python",
   "name": "python3"
  },
  "language_info": {
   "codemirror_mode": {
    "name": "ipython",
    "version": 3
   },
   "file_extension": ".py",
   "mimetype": "text/x-python",
   "name": "python",
   "nbconvert_exporter": "python",
   "pygments_lexer": "ipython3",
   "version": "3.11.5"
  }
 },
 "nbformat": 4,
 "nbformat_minor": 5
}
